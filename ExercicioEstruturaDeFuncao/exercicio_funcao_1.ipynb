{
  "nbformat": 4,
  "nbformat_minor": 0,
  "metadata": {
    "colab": {
      "provenance": []
    },
    "kernelspec": {
      "name": "python3",
      "display_name": "Python 3"
    },
    "language_info": {
      "name": "python"
    }
  },
  "cells": [
    {
      "cell_type": "code",
      "execution_count": null,
      "metadata": {
        "id": "8y5GrXal4x7x"
      },
      "outputs": [],
      "source": [
        "def saudacao(nome):\n",
        "  print(\"\\nOlá,\", nome)\n",
        "\n",
        "nome = str(input(\"Informe seu nome: \"))\n",
        "\n",
        "saudacao(nome)"
      ]
    },
    {
      "cell_type": "code",
      "source": [
        "def alterna(n):\n",
        "  result = \"\"\n",
        "  for i in range(n + 1):\n",
        "    result += f\" {i}\"\n",
        "\n",
        "  print(result.strip())\n",
        "\n",
        "alterna(5)\n",
        "alterna(6)\n",
        "alterna(7)"
      ],
      "metadata": {
        "id": "e4JgKrqJ9hpD"
      },
      "execution_count": null,
      "outputs": []
    },
    {
      "cell_type": "code",
      "source": [
        "def calcula_area(a , b):\n",
        "  print(\"Área é de\", 2 * a + 2 * b)\n",
        "\n",
        "calcula_area(7, 13.4)"
      ],
      "metadata": {
        "id": "pvHuQWDzEHnB"
      },
      "execution_count": null,
      "outputs": []
    },
    {
      "cell_type": "code",
      "source": [
        "def soma_pn(valores):\n",
        "  soma_p = 0\n",
        "  soma_n = 0\n",
        "  for n in valores:\n",
        "    if n > 0:\n",
        "      soma_p += n\n",
        "    else:\n",
        "      soma_n += n\n",
        "\n",
        "  return soma_p, soma_n\n",
        "\n",
        "valores = [2, -1, 3, -4]\n",
        "soma_p, soma_n = soma_pn(valores)\n",
        "print(f\"Soma dos positivos = {soma_p}\\nSoma dos negativos = {soma_n}\")"
      ],
      "metadata": {
        "id": "JsnV1J3PGENO"
      },
      "execution_count": null,
      "outputs": []
    }
  ]
}