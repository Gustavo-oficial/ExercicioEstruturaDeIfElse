{
  "nbformat": 4,
  "nbformat_minor": 0,
  "metadata": {
    "colab": {
      "provenance": []
    },
    "kernelspec": {
      "name": "python3",
      "display_name": "Python 3"
    },
    "language_info": {
      "name": "python"
    }
  },
  "cells": [
    {
      "cell_type": "code",
      "execution_count": null,
      "metadata": {
        "id": "Rtc4ZU2PgNR3"
      },
      "outputs": [],
      "source": [
        "def validar_digito_verificador_1(digitos):\n",
        "  soma_prod = 0\n",
        "\n",
        "  for n in range(9):\n",
        "    soma_prod += (digitos [n] * (10 - n))\n",
        "    d1 = ((soma_prod* 10) % 11) % 10\n",
        "\n",
        "    return d1 == digitos [-2]\n",
        "\n",
        "def validar_digito_verificador_2(digitos):\n",
        "  for n in range(10):\n",
        "    soma_prod += (digitos [n] * (11 - n))\n",
        "    d2 = ((soma_prod * 10) % 11) % 10\n",
        "\n",
        "    return d2 == digitos [-1]\n",
        "\n",
        "def validar_cpf(cpf):\n",
        "  cpfn = [int(d) for d in cpf if d.isdigit()]\n",
        "\n",
        "  if len(set(cpfn)) == 1:\n",
        "    return False\n",
        "\n",
        "  if validar_digito_verificador_1(cpfn) == False:\n",
        "    return False\n",
        "\n",
        "  return validar_digito_verificador_2(cpfn)\n",
        "\n",
        "def main():\n",
        "  cpf = input(\"Digite o CPF (apenas números): \")\n",
        "\n",
        "  if validar_cpf(cpf):\n",
        "    print(\"CPF válido!\")\n",
        "  else:\n",
        "    print(\"CPF inválido!\")\n",
        "\n",
        "main()"
      ]
    },
    {
      "cell_type": "code",
      "source": [
        "def generateCpf(cpf):\n",
        "  stringCpf = [int(i) for i in str(cpf)]\n",
        "  sum = 0\n",
        "  sum2 = 0\n",
        "\n",
        "  for i in range(9):\n",
        "    sum += (stringCpf[i] * (10 - i))\n",
        "\n",
        "  d1 = ((sum * 10) % 11) % 10\n",
        "  stringCpf.append(d1)\n",
        "\n",
        "  for ii in range(10):\n",
        "    sum2 += (stringCpf[ii] * (11 - ii))\n",
        "\n",
        "  d2 = ((sum2 * 10) % 11) % 10\n",
        "\n",
        "  return f\"{cpf[0:3]}.{cpf[3:6]}.{cpf[6:9]}-{d1}{d2}\"\n",
        "\n",
        "cpf = str(input(\"Informe o cpf\"))\n",
        "generateCpf(cpf)"
      ],
      "metadata": {
        "id": "BRqXLRuKBOP3"
      },
      "execution_count": null,
      "outputs": []
    },
    {
      "cell_type": "code",
      "source": [],
      "metadata": {
        "id": "bdPGILW4MZMQ"
      },
      "execution_count": null,
      "outputs": []
    }
  ]
}