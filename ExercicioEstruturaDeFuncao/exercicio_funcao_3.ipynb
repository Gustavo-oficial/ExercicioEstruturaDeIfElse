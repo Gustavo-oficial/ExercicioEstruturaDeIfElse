{
  "nbformat": 4,
  "nbformat_minor": 0,
  "metadata": {
    "colab": {
      "provenance": []
    },
    "kernelspec": {
      "name": "python3",
      "display_name": "Python 3"
    },
    "language_info": {
      "name": "python"
    }
  },
  "cells": [
    {
      "cell_type": "code",
      "execution_count": null,
      "metadata": {
        "id": "vkJ5LbHQDOL0"
      },
      "outputs": [],
      "source": [
        "N = 7\n",
        "\n",
        "def taboada(n):\n",
        "  calculo = n  * N\n",
        "  print(f'''\n",
        "    {n} x {N} = {calculo}\n",
        "  ''')\n",
        "\n",
        "print(f'''\n",
        "    Taboada do {N}\n",
        "    ---------------------\n",
        "''')\n",
        "for i in range(11):\n",
        "  taboada(i)"
      ]
    },
    {
      "cell_type": "code",
      "source": [
        "def receivedNumber(n):\n",
        "  for i in range(n):\n",
        "    output = \"\"\n",
        "    for ii in range(i + 1):\n",
        "      output += f\"{i + 1} \"\n",
        "\n",
        "    print(output)\n",
        "\n",
        "receivedNumber(3)"
      ],
      "metadata": {
        "id": "XfUl--mba5AM"
      },
      "execution_count": null,
      "outputs": []
    },
    {
      "cell_type": "code",
      "source": [
        "def received_number(n):\n",
        "\n",
        "  for i in range(n):\n",
        "    output = \"\"\n",
        "    for ii in range(0, i + 1):\n",
        "      output += f\"{ii + 1} \"\n",
        "\n",
        "    print(output)\n",
        "\n",
        "receivedNumber(4)"
      ],
      "metadata": {
        "id": "J8lG9XVMJjzD"
      },
      "execution_count": null,
      "outputs": []
    },
    {
      "cell_type": "code",
      "source": [
        "def convert_seconds(receivedSecond):\n",
        "  hours = 0\n",
        "  minutes = 0\n",
        "\n",
        "  if(receivedSecond > 3600):\n",
        "    hours = int(receivedSecond / 3600)\n",
        "\n",
        "  receivedSecond %= 3600\n",
        "  minutes = int(receivedSecond / 60)\n",
        "  receivedSecond %= 60\n",
        "\n",
        "  print(f\"{hours}:{minutes}:{int(receivedSecond):0}\")\n",
        "\n",
        "\n",
        "convert_seconds(4814)"
      ],
      "metadata": {
        "id": "DhrlGqgINy4q"
      },
      "execution_count": null,
      "outputs": []
    },
    {
      "cell_type": "code",
      "source": [],
      "metadata": {
        "id": "S8uCjVkzWT5s"
      },
      "execution_count": null,
      "outputs": []
    },
    {
      "cell_type": "code",
      "source": [],
      "metadata": {
        "id": "cUmMccu_WUCL"
      },
      "execution_count": null,
      "outputs": []
    },
    {
      "cell_type": "code",
      "source": [
        "def todos_iguais(sequencia):\n",
        "  return len(set(sequencia)) == 1\n",
        "\n",
        "todos_iguais([1,1,1,1,1,1])"
      ],
      "metadata": {
        "id": "dRVG9nRlW-fJ"
      },
      "execution_count": null,
      "outputs": []
    },
    {
      "cell_type": "code",
      "source": [
        "def todos_diferentes(sequencia):\n",
        "  return not (len(set(sequencia)) != len(sequencia))\n",
        "\n",
        "todos_diferentes([1,3,2,4,5,7])"
      ],
      "metadata": {
        "id": "_jFtb601XGK7"
      },
      "execution_count": null,
      "outputs": []
    },
    {
      "cell_type": "code",
      "source": [
        "def indice_elemento(n, lista):\n",
        "  index = [i for i in range(len(lista)) if lista[i] == n]\n",
        "\n",
        "  if len(index) == 0:\n",
        "    return -1\n",
        "  else:\n",
        "    return index[-len(index)]\n",
        "\n",
        "indice_elemento(5, [1, 1, 1])"
      ],
      "metadata": {
        "colab": {
          "base_uri": "https://localhost:8080/"
        },
        "id": "OSh7qlAbXiYH",
        "outputId": "ca16efc3-6359-484a-fdf6-80de3af01b19"
      },
      "execution_count": null,
      "outputs": [
        {
          "output_type": "execute_result",
          "data": {
            "text/plain": [
              "-1"
            ]
          },
          "metadata": {},
          "execution_count": 133
        }
      ]
    },
    {
      "cell_type": "code",
      "source": [],
      "metadata": {
        "id": "GPG6-biZaO5F"
      },
      "execution_count": null,
      "outputs": []
    },
    {
      "cell_type": "code",
      "source": [
        "def maiorN(lista, N):\n",
        "  # if 1 <= N <= len(lista):\n",
        "  #   return\n",
        "  # else:\n",
        "    lista.sort()\n",
        "    print(lista[-N])\n",
        "\n",
        "N = 2\n",
        "maiorN([1, 2, 3, 4, 5, 6], N)"
      ],
      "metadata": {
        "id": "KQcBivcdaPJI"
      },
      "execution_count": null,
      "outputs": []
    },
    {
      "cell_type": "code",
      "source": [
        "def div(m, n):\n",
        "  result = m / n\n",
        "  print(f\"A divisao inteira de {m} por {n} é: {result}\")\n",
        "  div(m, result)\n",
        "\n",
        "m = int(input(\"Digite o numero do dividendo \"))\n",
        "n = int(input(\"Digite o numero do divisor \"))\n",
        "\n",
        "div(m, n)"
      ],
      "metadata": {
        "id": "6q7R9NDvcw49"
      },
      "execution_count": null,
      "outputs": []
    },
    {
      "cell_type": "code",
      "source": [
        "def calcular_imc(altura, peso):\n",
        "  imc = peso / (altura ** 2)\n",
        "\n",
        "  while True:\n",
        "    if imc < 18.5:\n",
        "      return \"Magreza\"\n",
        "    elif imc > 18.5 and imc < 25:\n",
        "      return \"Normal\"\n",
        "    elif imc > 25 and imc < 30:\n",
        "      return \"Sobrepeso\"\n",
        "    elif imc > 30 and imc < 40:\n",
        "      return \"Obesidade\"\n",
        "    else:\n",
        "      return \"Obesidade Grave\"\n",
        "\n",
        "calcular_imc(1.75, 73)"
      ],
      "metadata": {
        "colab": {
          "base_uri": "https://localhost:8080/",
          "height": 36
        },
        "id": "qmfQcQMTr9x3",
        "outputId": "9daa1c00-f4d9-4d70-a0e6-7b0c6336df00"
      },
      "execution_count": null,
      "outputs": [
        {
          "output_type": "execute_result",
          "data": {
            "text/plain": [
              "'Normal'"
            ],
            "application/vnd.google.colaboratory.intrinsic+json": {
              "type": "string"
            }
          },
          "metadata": {},
          "execution_count": 154
        }
      ]
    }
  ]
}